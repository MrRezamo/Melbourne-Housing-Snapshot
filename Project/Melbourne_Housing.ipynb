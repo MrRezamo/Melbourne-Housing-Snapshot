{
 "cells": [
  {
   "cell_type": "markdown",
   "metadata": {},
   "source": [
    "# Description"
   ]
  },
  {
   "cell_type": "markdown",
   "metadata": {},
   "source": []
  },
  {
   "cell_type": "markdown",
   "metadata": {},
   "source": [
    "## Importing Libraries"
   ]
  },
  {
   "cell_type": "code",
   "execution_count": 1,
   "metadata": {},
   "outputs": [
    {
     "name": "stdout",
     "output_type": "stream",
     "text": [
      "All of the libraries loaded\n"
     ]
    }
   ],
   "source": [
    "import numpy as np\n",
    "import pandas as pd\n",
    "\n",
    "import seaborn as sns\n",
    "import matplotlib.pyplot as plt\n",
    "import matplotlib as mpl\n",
    "%matplotlib inline\n",
    "\n",
    "import warnings\n",
    "warnings.filterwarnings('ignore')\n",
    "\n",
    "import sys\n",
    "sys.path.append(r'D:\\Data_Projects\\Melbourne-Housing-Snapshot\\Melbourne-Housing-Snapshot-1\\Src\\lib')\n",
    "from helper_functions import *\n",
    "\n",
    "pd.set_option('display.max_columns', None)\n",
    "pd.set_option('display.max_row', None)\n",
    "pd.set_option('display.float_format', lambda x: '%.3f' % x )\n",
    "pd.set_option('display.width', 500)\n",
    "\n",
    "print(\"All of the libraries loaded\")"
   ]
  },
  {
   "cell_type": "markdown",
   "metadata": {},
   "source": [
    "## Loading Dataset"
   ]
  },
  {
   "cell_type": "code",
   "execution_count": 2,
   "metadata": {},
   "outputs": [],
   "source": [
    "data_path = r'D:\\Data_Projects\\Melbourne-Housing-Snapshot\\Melbourne-Housing-Snapshot-1\\Src\\data\\melb_data.csv'\n",
    "\n",
    "data = pd.read_csv(data_path)"
   ]
  },
  {
   "cell_type": "code",
   "execution_count": 3,
   "metadata": {},
   "outputs": [
    {
     "data": {
      "text/html": [
       "<div>\n",
       "<style scoped>\n",
       "    .dataframe tbody tr th:only-of-type {\n",
       "        vertical-align: middle;\n",
       "    }\n",
       "\n",
       "    .dataframe tbody tr th {\n",
       "        vertical-align: top;\n",
       "    }\n",
       "\n",
       "    .dataframe thead th {\n",
       "        text-align: right;\n",
       "    }\n",
       "</style>\n",
       "<table border=\"1\" class=\"dataframe\">\n",
       "  <thead>\n",
       "    <tr style=\"text-align: right;\">\n",
       "      <th></th>\n",
       "      <th>Suburb</th>\n",
       "      <th>Address</th>\n",
       "      <th>Rooms</th>\n",
       "      <th>Type</th>\n",
       "      <th>Price</th>\n",
       "      <th>Method</th>\n",
       "      <th>SellerG</th>\n",
       "      <th>Date</th>\n",
       "      <th>Distance</th>\n",
       "      <th>Postcode</th>\n",
       "      <th>Bedroom2</th>\n",
       "      <th>Bathroom</th>\n",
       "      <th>Car</th>\n",
       "      <th>Landsize</th>\n",
       "      <th>BuildingArea</th>\n",
       "      <th>YearBuilt</th>\n",
       "      <th>CouncilArea</th>\n",
       "      <th>Lattitude</th>\n",
       "      <th>Longtitude</th>\n",
       "      <th>Regionname</th>\n",
       "      <th>Propertycount</th>\n",
       "    </tr>\n",
       "  </thead>\n",
       "  <tbody>\n",
       "    <tr>\n",
       "      <th>0</th>\n",
       "      <td>Abbotsford</td>\n",
       "      <td>85 Turner St</td>\n",
       "      <td>2</td>\n",
       "      <td>h</td>\n",
       "      <td>1480000.000</td>\n",
       "      <td>S</td>\n",
       "      <td>Biggin</td>\n",
       "      <td>3/12/2016</td>\n",
       "      <td>2.500</td>\n",
       "      <td>3067.000</td>\n",
       "      <td>2.000</td>\n",
       "      <td>1.000</td>\n",
       "      <td>1.000</td>\n",
       "      <td>202.000</td>\n",
       "      <td>NaN</td>\n",
       "      <td>NaN</td>\n",
       "      <td>Yarra</td>\n",
       "      <td>-37.800</td>\n",
       "      <td>144.998</td>\n",
       "      <td>Northern Metropolitan</td>\n",
       "      <td>4019.000</td>\n",
       "    </tr>\n",
       "    <tr>\n",
       "      <th>1</th>\n",
       "      <td>Abbotsford</td>\n",
       "      <td>25 Bloomburg St</td>\n",
       "      <td>2</td>\n",
       "      <td>h</td>\n",
       "      <td>1035000.000</td>\n",
       "      <td>S</td>\n",
       "      <td>Biggin</td>\n",
       "      <td>4/02/2016</td>\n",
       "      <td>2.500</td>\n",
       "      <td>3067.000</td>\n",
       "      <td>2.000</td>\n",
       "      <td>1.000</td>\n",
       "      <td>0.000</td>\n",
       "      <td>156.000</td>\n",
       "      <td>79.000</td>\n",
       "      <td>1900.000</td>\n",
       "      <td>Yarra</td>\n",
       "      <td>-37.808</td>\n",
       "      <td>144.993</td>\n",
       "      <td>Northern Metropolitan</td>\n",
       "      <td>4019.000</td>\n",
       "    </tr>\n",
       "    <tr>\n",
       "      <th>2</th>\n",
       "      <td>Abbotsford</td>\n",
       "      <td>5 Charles St</td>\n",
       "      <td>3</td>\n",
       "      <td>h</td>\n",
       "      <td>1465000.000</td>\n",
       "      <td>SP</td>\n",
       "      <td>Biggin</td>\n",
       "      <td>4/03/2017</td>\n",
       "      <td>2.500</td>\n",
       "      <td>3067.000</td>\n",
       "      <td>3.000</td>\n",
       "      <td>2.000</td>\n",
       "      <td>0.000</td>\n",
       "      <td>134.000</td>\n",
       "      <td>150.000</td>\n",
       "      <td>1900.000</td>\n",
       "      <td>Yarra</td>\n",
       "      <td>-37.809</td>\n",
       "      <td>144.994</td>\n",
       "      <td>Northern Metropolitan</td>\n",
       "      <td>4019.000</td>\n",
       "    </tr>\n",
       "    <tr>\n",
       "      <th>3</th>\n",
       "      <td>Abbotsford</td>\n",
       "      <td>40 Federation La</td>\n",
       "      <td>3</td>\n",
       "      <td>h</td>\n",
       "      <td>850000.000</td>\n",
       "      <td>PI</td>\n",
       "      <td>Biggin</td>\n",
       "      <td>4/03/2017</td>\n",
       "      <td>2.500</td>\n",
       "      <td>3067.000</td>\n",
       "      <td>3.000</td>\n",
       "      <td>2.000</td>\n",
       "      <td>1.000</td>\n",
       "      <td>94.000</td>\n",
       "      <td>NaN</td>\n",
       "      <td>NaN</td>\n",
       "      <td>Yarra</td>\n",
       "      <td>-37.797</td>\n",
       "      <td>144.997</td>\n",
       "      <td>Northern Metropolitan</td>\n",
       "      <td>4019.000</td>\n",
       "    </tr>\n",
       "    <tr>\n",
       "      <th>4</th>\n",
       "      <td>Abbotsford</td>\n",
       "      <td>55a Park St</td>\n",
       "      <td>4</td>\n",
       "      <td>h</td>\n",
       "      <td>1600000.000</td>\n",
       "      <td>VB</td>\n",
       "      <td>Nelson</td>\n",
       "      <td>4/06/2016</td>\n",
       "      <td>2.500</td>\n",
       "      <td>3067.000</td>\n",
       "      <td>3.000</td>\n",
       "      <td>1.000</td>\n",
       "      <td>2.000</td>\n",
       "      <td>120.000</td>\n",
       "      <td>142.000</td>\n",
       "      <td>2014.000</td>\n",
       "      <td>Yarra</td>\n",
       "      <td>-37.807</td>\n",
       "      <td>144.994</td>\n",
       "      <td>Northern Metropolitan</td>\n",
       "      <td>4019.000</td>\n",
       "    </tr>\n",
       "  </tbody>\n",
       "</table>\n",
       "</div>"
      ],
      "text/plain": [
       "       Suburb           Address  Rooms Type       Price Method SellerG       Date  Distance  Postcode  Bedroom2  Bathroom   Car  Landsize  BuildingArea  YearBuilt CouncilArea  Lattitude  Longtitude             Regionname  Propertycount\n",
       "0  Abbotsford      85 Turner St      2    h 1480000.000      S  Biggin  3/12/2016     2.500  3067.000     2.000     1.000 1.000   202.000           NaN        NaN       Yarra    -37.800     144.998  Northern Metropolitan       4019.000\n",
       "1  Abbotsford   25 Bloomburg St      2    h 1035000.000      S  Biggin  4/02/2016     2.500  3067.000     2.000     1.000 0.000   156.000        79.000   1900.000       Yarra    -37.808     144.993  Northern Metropolitan       4019.000\n",
       "2  Abbotsford      5 Charles St      3    h 1465000.000     SP  Biggin  4/03/2017     2.500  3067.000     3.000     2.000 0.000   134.000       150.000   1900.000       Yarra    -37.809     144.994  Northern Metropolitan       4019.000\n",
       "3  Abbotsford  40 Federation La      3    h  850000.000     PI  Biggin  4/03/2017     2.500  3067.000     3.000     2.000 1.000    94.000           NaN        NaN       Yarra    -37.797     144.997  Northern Metropolitan       4019.000\n",
       "4  Abbotsford       55a Park St      4    h 1600000.000     VB  Nelson  4/06/2016     2.500  3067.000     3.000     1.000 2.000   120.000       142.000   2014.000       Yarra    -37.807     144.994  Northern Metropolitan       4019.000"
      ]
     },
     "execution_count": 3,
     "metadata": {},
     "output_type": "execute_result"
    }
   ],
   "source": [
    "data.head()"
   ]
  },
  {
   "cell_type": "code",
   "execution_count": 4,
   "metadata": {},
   "outputs": [
    {
     "name": "stdout",
     "output_type": "stream",
     "text": [
      "<class 'pandas.core.frame.DataFrame'>\n",
      "RangeIndex: 13580 entries, 0 to 13579\n",
      "Data columns (total 21 columns):\n",
      " #   Column         Non-Null Count  Dtype  \n",
      "---  ------         --------------  -----  \n",
      " 0   Suburb         13580 non-null  object \n",
      " 1   Address        13580 non-null  object \n",
      " 2   Rooms          13580 non-null  int64  \n",
      " 3   Type           13580 non-null  object \n",
      " 4   Price          13580 non-null  float64\n",
      " 5   Method         13580 non-null  object \n",
      " 6   SellerG        13580 non-null  object \n",
      " 7   Date           13580 non-null  object \n",
      " 8   Distance       13580 non-null  float64\n",
      " 9   Postcode       13580 non-null  float64\n",
      " 10  Bedroom2       13580 non-null  float64\n",
      " 11  Bathroom       13580 non-null  float64\n",
      " 12  Car            13518 non-null  float64\n",
      " 13  Landsize       13580 non-null  float64\n",
      " 14  BuildingArea   7130 non-null   float64\n",
      " 15  YearBuilt      8205 non-null   float64\n",
      " 16  CouncilArea    12211 non-null  object \n",
      " 17  Lattitude      13580 non-null  float64\n",
      " 18  Longtitude     13580 non-null  float64\n",
      " 19  Regionname     13580 non-null  object \n",
      " 20  Propertycount  13580 non-null  float64\n",
      "dtypes: float64(12), int64(1), object(8)\n",
      "memory usage: 2.2+ MB\n"
     ]
    }
   ],
   "source": [
    "data.info()"
   ]
  },
  {
   "cell_type": "code",
   "execution_count": 5,
   "metadata": {},
   "outputs": [
    {
     "name": "stdout",
     "output_type": "stream",
     "text": [
      "There are 13580 rows\n",
      "There are 21 Columns\n"
     ]
    }
   ],
   "source": [
    "print(f'There are {data.shape[0]} rows')\n",
    "print(f'There are {data.shape[1]} Columns')"
   ]
  },
  {
   "cell_type": "markdown",
   "metadata": {},
   "source": [
    "Now, I Split the columns to Nomerical and Categorical "
   ]
  },
  {
   "cell_type": "code",
   "execution_count": 6,
   "metadata": {},
   "outputs": [
    {
     "data": {
      "text/plain": [
       "{'numerical': ['Rooms',\n",
       "  'Price',\n",
       "  'Distance',\n",
       "  'Postcode',\n",
       "  'Bedroom2',\n",
       "  'Bathroom',\n",
       "  'Car',\n",
       "  'Landsize',\n",
       "  'BuildingArea',\n",
       "  'YearBuilt',\n",
       "  'Lattitude',\n",
       "  'Longtitude',\n",
       "  'Propertycount'],\n",
       " 'categorical': ['Suburb',\n",
       "  'Address',\n",
       "  'Type',\n",
       "  'Method',\n",
       "  'SellerG',\n",
       "  'Date',\n",
       "  'CouncilArea',\n",
       "  'Regionname'],\n",
       " 'other': []}"
      ]
     },
     "execution_count": 6,
     "metadata": {},
     "output_type": "execute_result"
    }
   ],
   "source": [
    "get_column_types(data,verbose=False)"
   ]
  },
  {
   "cell_type": "code",
   "execution_count": 7,
   "metadata": {},
   "outputs": [],
   "source": [
    "numerical_columns = get_column_types(data,verbose=False)['numerical']\n",
    "categorical_columns = get_column_types(data,verbose=False)['categorical']"
   ]
  },
  {
   "cell_type": "markdown",
   "metadata": {},
   "source": [
    "## Columns Information"
   ]
  },
  {
   "cell_type": "markdown",
   "metadata": {},
   "source": [
    "- **Suburb**: This column represents the suburb where the property is located.\n",
    "\n",
    "- **Address**: The specific street address of the property.\n",
    "- **Rooms**: The number of rooms in the property.\n",
    "- **Type**: This indicate the type of property (e.g., house, apartment, townhouse).\n",
    "- **Price**: The sale price of the property.\n",
    "- **Method**: The method of sale (e.g., auction, private treaty).\n",
    "- **SellerG**: The name of the real estate agent or agency that sold the property.\n",
    "- **Date**: The date the property was sold.\n",
    "- **Distance**: The distance of the property from a central point of interest or city center, possibly in kilometers.\n",
    "- **Postcode**: The postal code for the property's location.\n",
    "- **Bedroom2**: This the number of bedrooms in the property, potentially a duplicate or a different measurement from \"Rooms\".\n",
    "- **Bathroom**: The number of bathrooms in the property.\n",
    "- **Car**: The number of car spaces available with the property.\n",
    "- **Landsize**: The size of the land on which the property is built, likely measured in square meters.\n",
    "- **BuildingArea**: The size of the building or living space, possibly in square meters.\n",
    "- **YearBuilt**: The year in which the property was built.\n",
    "- **CouncilArea**: The local government area that the property is located in.\n",
    "- **Lattitude**: The geographical latitude of the property.\n",
    "- **Longtitude**: The geographical longitude of the property.\n",
    "- **Regionname**: A broader region or area where the property is located, potentially for regional categorization.\n",
    "- **Propertycount**: This refer to the total number of properties in the suburb or region, giving an idea of the area's density or size."
   ]
  },
  {
   "cell_type": "markdown",
   "metadata": {},
   "source": [
    "## Data Cleaning"
   ]
  },
  {
   "cell_type": "markdown",
   "metadata": {},
   "source": [
    "Fisrt of all, I want to change the all columns name to lower case to better access "
   ]
  },
  {
   "cell_type": "code",
   "execution_count": 8,
   "metadata": {},
   "outputs": [],
   "source": [
    "data.columns = data.columns.str.lower()"
   ]
  },
  {
   "cell_type": "markdown",
   "metadata": {},
   "source": [
    "Checking Missing Values "
   ]
  },
  {
   "cell_type": "code",
   "execution_count": 9,
   "metadata": {},
   "outputs": [
    {
     "data": {
      "text/html": [
       "<div>\n",
       "<style scoped>\n",
       "    .dataframe tbody tr th:only-of-type {\n",
       "        vertical-align: middle;\n",
       "    }\n",
       "\n",
       "    .dataframe tbody tr th {\n",
       "        vertical-align: top;\n",
       "    }\n",
       "\n",
       "    .dataframe thead th {\n",
       "        text-align: right;\n",
       "    }\n",
       "</style>\n",
       "<table border=\"1\" class=\"dataframe\">\n",
       "  <thead>\n",
       "    <tr style=\"text-align: right;\">\n",
       "      <th></th>\n",
       "      <th>column</th>\n",
       "      <th>missing_count</th>\n",
       "      <th>percentage</th>\n",
       "    </tr>\n",
       "  </thead>\n",
       "  <tbody>\n",
       "    <tr>\n",
       "      <th>0</th>\n",
       "      <td>buildingarea</td>\n",
       "      <td>6450</td>\n",
       "      <td>47.496</td>\n",
       "    </tr>\n",
       "    <tr>\n",
       "      <th>1</th>\n",
       "      <td>yearbuilt</td>\n",
       "      <td>5375</td>\n",
       "      <td>39.580</td>\n",
       "    </tr>\n",
       "    <tr>\n",
       "      <th>2</th>\n",
       "      <td>councilarea</td>\n",
       "      <td>1369</td>\n",
       "      <td>10.081</td>\n",
       "    </tr>\n",
       "    <tr>\n",
       "      <th>3</th>\n",
       "      <td>car</td>\n",
       "      <td>62</td>\n",
       "      <td>0.457</td>\n",
       "    </tr>\n",
       "  </tbody>\n",
       "</table>\n",
       "</div>"
      ],
      "text/plain": [
       "         column  missing_count  percentage\n",
       "0  buildingarea           6450      47.496\n",
       "1     yearbuilt           5375      39.580\n",
       "2   councilarea           1369      10.081\n",
       "3           car             62       0.457"
      ]
     },
     "execution_count": 9,
     "metadata": {},
     "output_type": "execute_result"
    }
   ],
   "source": [
    "report_missing_values(data)"
   ]
  },
  {
   "cell_type": "code",
   "execution_count": 10,
   "metadata": {},
   "outputs": [],
   "source": [
    "null_columns = data[['car','buildingarea','yearbuilt']]"
   ]
  },
  {
   "cell_type": "code",
   "execution_count": 11,
   "metadata": {},
   "outputs": [
    {
     "name": "stdout",
     "output_type": "stream",
     "text": [
      "<class 'pandas.core.frame.DataFrame'>\n",
      "RangeIndex: 13580 entries, 0 to 13579\n",
      "Data columns (total 3 columns):\n",
      " #   Column        Non-Null Count  Dtype  \n",
      "---  ------        --------------  -----  \n",
      " 0   car           13518 non-null  float64\n",
      " 1   buildingarea  7130 non-null   float64\n",
      " 2   yearbuilt     8205 non-null   float64\n",
      "dtypes: float64(3)\n",
      "memory usage: 318.4 KB\n"
     ]
    }
   ],
   "source": [
    "null_columns.info()"
   ]
  },
  {
   "cell_type": "code",
   "execution_count": 22,
   "metadata": {},
   "outputs": [
    {
     "data": {
      "image/png": "[encoded data removed]",
      "text/plain": [
       "<Figure size 1500x500 with 2 Axes>"
      ]
     },
     "metadata": {},
     "output_type": "display_data"
    }
   ],
   "source": [
    "plot_distribution_and_box(\n",
    "    data = data,\n",
    "    column_name = 'car',\n",
    "    title= \"Count and Boxplot Car\",\n",
    "    figsize=(15, 5),\n",
    "    width_ratios=[7, 1.5],\n",
    ")"
   ]
  },
  {
   "cell_type": "code",
   "execution_count": 24,
   "metadata": {},
   "outputs": [
    {
     "data": {
      "image/png": "[encoded data removed]",
      "text/plain": [
       "<Figure size 1500x500 with 2 Axes>"
      ]
     },
     "metadata": {},
     "output_type": "display_data"
    }
   ],
   "source": [
    "plot_distribution_and_box(\n",
    "    data = data,\n",
    "    column_name = 'buildingarea',\n",
    "    title= \"Count and Boxplot Building Area\",\n",
    "    figsize=(15, 5),\n",
    "    width_ratios=[5, 4.5],\n",
    ")"
   ]
  },
  {
   "cell_type": "code",
   "execution_count": 27,
   "metadata": {},
   "outputs": [
    {
     "data": {
      "image/png": "[encoded data removed]",
      "text/plain": [
       "<Figure size 1500x500 with 2 Axes>"
      ]
     },
     "metadata": {},
     "output_type": "display_data"
    }
   ],
   "source": [
    "plot_distribution_and_box(\n",
    "    data = data,\n",
    "    column_name = 'yearbuilt',\n",
    "    title= \"Count and Boxplot Year Built\",\n",
    "    figsize=(15, 5),\n",
    "    width_ratios=[4, 3.5],\n",
    ")"
   ]
  },
  {
   "cell_type": "code",
   "execution_count": 28,
   "metadata": {},
   "outputs": [],
   "source": [
    "from sklearn.impute import KNNImputer\n",
    "\n",
    "knn_imputer = KNNImputer(n_neighbors=5, weights='uniform')\n",
    "\n",
    "imputed_data = knn_imputer.fit_transform(null_columns)\n",
    "\n",
    "imputed_data = pd.DataFrame(imputed_data, columns=null_columns.columns, index=null_columns.index)\n",
    "\n",
    "data[['car', 'buildingarea', 'yearbuilt']] = imputed_data"
   ]
  },
  {
   "cell_type": "code",
   "execution_count": 35,
   "metadata": {},
   "outputs": [],
   "source": [
    "from sklearn.impute import SimpleImputer\n",
    "\n",
    "simple_imputer = SimpleImputer(strategy='most_frequent')\n",
    "\n",
    "data['councilarea'] = simple_imputer.fit_transform(data[['councilarea']]).ravel()"
   ]
  },
  {
   "cell_type": "code",
   "execution_count": 36,
   "metadata": {},
   "outputs": [
    {
     "name": "stdout",
     "output_type": "stream",
     "text": [
      "<class 'pandas.core.frame.DataFrame'>\n",
      "RangeIndex: 13580 entries, 0 to 13579\n",
      "Data columns (total 21 columns):\n",
      " #   Column         Non-Null Count  Dtype  \n",
      "---  ------         --------------  -----  \n",
      " 0   suburb         13580 non-null  object \n",
      " 1   address        13580 non-null  object \n",
      " 2   rooms          13580 non-null  int64  \n",
      " 3   type           13580 non-null  object \n",
      " 4   price          13580 non-null  float64\n",
      " 5   method         13580 non-null  object \n",
      " 6   sellerg        13580 non-null  object \n",
      " 7   date           13580 non-null  object \n",
      " 8   distance       13580 non-null  float64\n",
      " 9   postcode       13580 non-null  float64\n",
      " 10  bedroom2       13580 non-null  float64\n",
      " 11  bathroom       13580 non-null  float64\n",
      " 12  car            13580 non-null  float64\n",
      " 13  landsize       13580 non-null  float64\n",
      " 14  buildingarea   13580 non-null  float64\n",
      " 15  yearbuilt      13580 non-null  float64\n",
      " 16  councilarea    13580 non-null  object \n",
      " 17  lattitude      13580 non-null  float64\n",
      " 18  longtitude     13580 non-null  float64\n",
      " 19  regionname     13580 non-null  object \n",
      " 20  propertycount  13580 non-null  float64\n",
      "dtypes: float64(12), int64(1), object(8)\n",
      "memory usage: 2.2+ MB\n"
     ]
    }
   ],
   "source": [
    "data.info()"
   ]
  },
  {
   "cell_type": "code",
   "execution_count": null,
   "metadata": {},
   "outputs": [],
   "source": []
  },
  {
   "cell_type": "code",
   "execution_count": null,
   "metadata": {},
   "outputs": [],
   "source": []
  },
  {
   "cell_type": "code",
   "execution_count": null,
   "metadata": {},
   "outputs": [],
   "source": []
  },
  {
   "cell_type": "code",
   "execution_count": null,
   "metadata": {},
   "outputs": [],
   "source": []
  },
  {
   "cell_type": "code",
   "execution_count": null,
   "metadata": {},
   "outputs": [],
   "source": [
    "data.duplicated().sum()"
   ]
  },
  {
   "cell_type": "code",
   "execution_count": null,
   "metadata": {},
   "outputs": [],
   "source": []
  },
  {
   "cell_type": "code",
   "execution_count": null,
   "metadata": {},
   "outputs": [],
   "source": [
    "from datetime import datetime\n",
    "\n",
    "current_year = datetime.now().year\n",
    "data['Age'] = current_year - data['YearBuilt']"
   ]
  },
  {
   "cell_type": "code",
   "execution_count": null,
   "metadata": {},
   "outputs": [],
   "source": [
    "from sklearn.model_selection import train_test_split , RandomizedSearchCV , ShuffleSplit , GridSearchCV\n",
    "from sklearn.preprocessing import Normalizer , StandardScaler , MinMaxScaler\n",
    "from sklearn.pipeline import Pipeline\n",
    "from sklearn import preprocessing"
   ]
  },
  {
   "cell_type": "code",
   "execution_count": null,
   "metadata": {},
   "outputs": [],
   "source": [
    "X = data.drop('Price',axis=1)\n",
    "y = data['Price']\n",
    "\n",
    "for colname in X.select_dtypes(\"object\"):\n",
    "    X[colname], _ = X[colname].factorize()\n",
    "\n",
    "# All discrete features should now have integer dtypes (double-check this before using MI!)\n",
    "discrete_features = X.dtypes == int"
   ]
  },
  {
   "cell_type": "code",
   "execution_count": null,
   "metadata": {},
   "outputs": [],
   "source": [
    "from sklearn.feature_selection import mutual_info_regression\n",
    "\n",
    "def make_mi_score(X, y,discrete_features):\n",
    "    mi_score = mutual_info_regression(X, y, discrete_features=discrete_features)\n",
    "    mi_score = pd.Series(mi_score , name = \"mi_score\", index=X.columns)\n",
    "    mi_score = mi_score.sort_values(ascending=False)\n",
    "    return mi_score\n",
    "\n",
    "mi_score = make_mi_score(X,y,discrete_features)\n",
    "mi_score[::3]"
   ]
  },
  {
   "cell_type": "code",
   "execution_count": null,
   "metadata": {},
   "outputs": [],
   "source": [
    "def plot_mi_scores(scores):\n",
    "    scores = scores.sort_values(ascending=True)\n",
    "    width = np.arange(len(scores))\n",
    "    ticks = list(scores.index)\n",
    "    plt.barh(width, scores)\n",
    "    plt.yticks(width, ticks)\n",
    "    plt.title(\"Mutual Information Scores\")\n",
    "\n",
    "\n",
    "plt.figure(dpi=100, figsize=(8, 5))\n",
    "plot_mi_scores(mi_score)"
   ]
  },
  {
   "cell_type": "code",
   "execution_count": null,
   "metadata": {},
   "outputs": [],
   "source": [
    "sns.catplot(x='Rooms', y='Price',data=data,kind=\"boxen\")"
   ]
  },
  {
   "cell_type": "code",
   "execution_count": null,
   "metadata": {},
   "outputs": [],
   "source": []
  }
 ],
 "metadata": {
  "kernelspec": {
   "display_name": "Python 3",
   "language": "python",
   "name": "python3"
  },
  "language_info": {
   "codemirror_mode": {
    "name": "ipython",
    "version": 3
   },
   "file_extension": ".py",
   "mimetype": "text/x-python",
   "name": "python",
   "nbconvert_exporter": "python",
   "pygments_lexer": "ipython3",
   "version": "3.10.5"
  }
 },
 "nbformat": 4,
 "nbformat_minor": 2
}
